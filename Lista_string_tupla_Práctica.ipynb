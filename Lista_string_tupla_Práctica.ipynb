{
  "nbformat": 4,
  "nbformat_minor": 0,
  "metadata": {
    "colab": {
      "provenance": [],
      "include_colab_link": true
    },
    "kernelspec": {
      "name": "python3",
      "display_name": "Python 3"
    },
    "language_info": {
      "name": "python"
    }
  },
  "cells": [
    {
      "cell_type": "markdown",
      "metadata": {
        "id": "view-in-github",
        "colab_type": "text"
      },
      "source": [
        "<a href=\"https://colab.research.google.com/github/AnitaJaime/tps-pii-colab/blob/main/Lista_string_tupla_Pr%C3%A1ctica.ipynb\" target=\"_parent\"><img src=\"https://colab.research.google.com/assets/colab-badge.svg\" alt=\"Open In Colab\"/></a>"
      ]
    },
    {
      "cell_type": "code",
      "execution_count": null,
      "metadata": {
        "id": "8VOD-zpMJovw"
      },
      "outputs": [],
      "source": [
        "# Lista de alumnos\n",
        "alumnos = [\n",
        "    \"Alurralde, Solange Stefania\",\n",
        "    \"Alvarado, Ludmila Del Milagro\",\n",
        "    \"Angel, Camila Juliana\",\n",
        "    \"Arenas, Lucas Gabriel\",\n",
        "    \"Caseres, Maria Antonia\",\n",
        "    \"Castillo, Paulina Milagros\",\n",
        "    \"Correa Segovia, Hugo Mariano\",\n",
        "    \"D Elia, Alvaro Tadeo\",\n",
        "    \"Flores, Victoria Agustina\",\n",
        "    \"Geronimo Soriano, Lizzie Amaya\",\n",
        "    \"GUZMAN, ANGÉLICA MORENA\",\n",
        "    \"Guzman, Jazmin Esmeralda Belen\",\n",
        "    \"Jaime, Anita Maria Belen\",\n",
        "    \"Lacour Polo, Nazarena\",\n",
        "    \"Lascano Guanca, Marcelo Fabricio\",\n",
        "    \"Lezcano, Celia Morena\",\n",
        "    \"Mamani Kynast, Nicolas Mauricio\",\n",
        "    \"Martinez, Tomas Andres\",\n",
        "    \"PORTELLA VALDIVIA, PEDRO FRANCISCO\",\n",
        "    \"Retamal Cisneros, Zacarias Josue\",\n",
        "    \"Rosales, Francisco Gabriel\",\n",
        "    \"Salem Barba, Mahia\",\n",
        "    \"Soto Camara, Agustin Ignacio\",\n",
        "    \"Villalba, Irina\",\n",
        "    \"Voltolini, Emanuel Tobias\",\n",
        "    \"Zalazar, Santino Stefano\",\n",
        "    \"ABUD LASPIUR, LOURDES MARIEL\",\n",
        "    \"Amador, Luana Micaela\",\n",
        "    \"Anaquin, Leonardo Ezequiel\",\n",
        "    \"Araoz Sanchez, Lautaro Nahuel\",\n",
        "    \"Argañaraz, Agostina Abril\",\n",
        "    \"Barrera, Matias Ezequiel\",\n",
        "    \"Barrozo Vedia, Joaquin Nicolas\",\n",
        "    \"Bettinelli, Valentino\",\n",
        "    \"Bracamonte Martinez, Salvador\",\n",
        "    \"Colque Rivero, Ariana Zoe Del Valle\",\n",
        "    \"Diaz, Dulce Maitena\",\n",
        "    \"FIGUEROA, SANTINO JOSUE\",\n",
        "    \"Flores Cardozo, Agustina Tiara\",\n",
        "    \"Gallo, Octavio Ismael\",\n",
        "    \"Galvan, Lourdes Yamila\",\n",
        "    \"Giangreco, Vitto Tomasso\",\n",
        "    \"Grancara, Martina Luna\",\n",
        "    \"Guanca, Sara Elizabeth\",\n",
        "    \"Lopez, Victoria Constanza\",\n",
        "    \"Mamani Garrido, Rosario Agostina\",\n",
        "    \"Marinaro, Martin Ezequiel\",\n",
        "    \"Merluzzi Dagum, Ignacio\",\n",
        "    \"Messina, Martina\",\n",
        "    \"RASUK, KARIM\", \"Rios, Lucia Magali\",\n",
        "    \"Sanchez Flores, Matías Agustín\",\n",
        "    \"Scarano, Renato Marcelo\",\n",
        "    \"Sierra, Lucas Mauricio\",\n",
        "    \"Tapia, Martin Gabriel\",\n",
        "    \"Vilte, Mia Antonella Alondra\",\n",
        "    \"Virgillito, Katya Milena\"\n",
        "]"
      ]
    },
    {
      "cell_type": "markdown",
      "source": [
        "## Dada la lista estudiantes:\n",
        "> - Hacer una celda para resolver cada punto.\n",
        "- El TP resuelto será revisado en tu repositorio, no es necesario que lo envíes, pero sí que lo pushees correctamente.\n",
        "- En la nota inicial se contempla:\n",
        "  - La creación del fork.\n",
        "  - El pusheo de los cambios realizados.\n",
        "  - La resolución de los ejercicios propuestos.\n"
      ],
      "metadata": {
        "id": "rd6Ug6v3J4uN"
      }
    },
    {
      "cell_type": "markdown",
      "source": [
        "1. Reemplaza todos los valores por los que obtengas del método title(). De esta manera tu lista quedara con los datos más homogéneos."
      ],
      "metadata": {
        "id": "wRLng-uURyJ3"
      }
    },
    {
      "cell_type": "code",
      "source": [
        "for i in range(len(alumnos)):\n",
        "  alumnos[i] = alumnos[i].title()"
      ],
      "metadata": {
        "id": "8_-pTJ7UmqPY"
      },
      "execution_count": null,
      "outputs": []
    },
    {
      "cell_type": "code",
      "source": [
        "for alumno in alumnos:\n",
        "  print(alumno)"
      ],
      "metadata": {
        "id": "5Z2FpGmy72CA",
        "outputId": "00eacab6-506a-4c9f-b56e-09caab729991",
        "colab": {
          "base_uri": "https://localhost:8080/"
        }
      },
      "execution_count": null,
      "outputs": [
        {
          "output_type": "stream",
          "name": "stdout",
          "text": [
            "Alurralde, Solange Stefania\n",
            "Alvarado, Ludmila Del Milagro\n",
            "Angel, Camila Juliana\n",
            "Arenas, Lucas Gabriel\n",
            "Caseres, Maria Antonia\n",
            "Castillo, Paulina Milagros\n",
            "Correa Segovia, Hugo Mariano\n",
            "D Elia, Alvaro Tadeo\n",
            "Flores, Victoria Agustina\n",
            "Geronimo Soriano, Lizzie Amaya\n",
            "Guzman, Angélica Morena\n",
            "Guzman, Jazmin Esmeralda Belen\n",
            "Jaime, Anita Maria Belen\n",
            "Lacour Polo, Nazarena\n",
            "Lascano Guanca, Marcelo Fabricio\n",
            "Lezcano, Celia Morena\n",
            "Mamani Kynast, Nicolas Mauricio\n",
            "Martinez, Tomas Andres\n",
            "Portella Valdivia, Pedro Francisco\n",
            "Retamal Cisneros, Zacarias Josue\n",
            "Rosales, Francisco Gabriel\n",
            "Salem Barba, Mahia\n",
            "Soto Camara, Agustin Ignacio\n",
            "Villalba, Irina\n",
            "Voltolini, Emanuel Tobias\n",
            "Zalazar, Santino Stefano\n",
            "Abud Laspiur, Lourdes Mariel\n",
            "Amador, Luana Micaela\n",
            "Anaquin, Leonardo Ezequiel\n",
            "Araoz Sanchez, Lautaro Nahuel\n",
            "Argañaraz, Agostina Abril\n",
            "Barrera, Matias Ezequiel\n",
            "Barrozo Vedia, Joaquin Nicolas\n",
            "Bettinelli, Valentino\n",
            "Bracamonte Martinez, Salvador\n",
            "Colque Rivero, Ariana Zoe Del Valle\n",
            "Diaz, Dulce Maitena\n",
            "Figueroa, Santino Josue\n",
            "Flores Cardozo, Agustina Tiara\n",
            "Gallo, Octavio Ismael\n",
            "Galvan, Lourdes Yamila\n",
            "Giangreco, Vitto Tomasso\n",
            "Grancara, Martina Luna\n",
            "Guanca, Sara Elizabeth\n",
            "Lopez, Victoria Constanza\n",
            "Mamani Garrido, Rosario Agostina\n",
            "Marinaro, Martin Ezequiel\n",
            "Merluzzi Dagum, Ignacio\n",
            "Messina, Martina\n",
            "Rasuk, Karim\n",
            "Rios, Lucia Magali\n",
            "Sanchez Flores, Matías Agustín\n",
            "Scarano, Renato Marcelo\n",
            "Sierra, Lucas Mauricio\n",
            "Tapia, Martin Gabriel\n",
            "Vilte, Mia Antonella Alondra\n",
            "Virgillito, Katya Milena\n"
          ]
        }
      ]
    },
    {
      "cell_type": "markdown",
      "source": [
        "2. Desarrolla un script que permita ingresar un nombre y muestre cuantas veces aparece este en la lista\n"
      ],
      "metadata": {
        "id": "dYEGkYZyLy9I"
      }
    },
    {
      "cell_type": "code",
      "source": [
        "nombre = input(\"Ingrese un nombre: \").title()\n",
        "nombres = []\n",
        "for alumno in alumnos:\n",
        "  alumno_nombres = alumno.replace(',','').split()\n",
        "  nombres.extend(alumno_nombres)\n",
        "print(f\"El nombre {nombre} parece {nombres.count(nombre)} veces en la lista\")"
      ],
      "metadata": {
        "id": "2EzQjUqbmvTB",
        "outputId": "5137e73b-4102-4ab7-e8a0-8354225a5a75",
        "colab": {
          "base_uri": "https://localhost:8080/"
        }
      },
      "execution_count": null,
      "outputs": [
        {
          "output_type": "stream",
          "name": "stdout",
          "text": [
            "Ingrese un nombre: maria\n",
            "El nombre Maria parece 2 veces en la lista\n"
          ]
        }
      ]
    },
    {
      "cell_type": "markdown",
      "source": [
        "3. Desarrolla un script en python que permita ingresar un nombre y mostrar en que posición de la lista se encuentra el mismo. Realiza las combinaciones necesarias para que no se genere un error si es que el nombre no existe."
      ],
      "metadata": {
        "id": "UW2dlBsGMAte"
      }
    },
    {
      "cell_type": "code",
      "source": [
        "nombre= input(\"Ingrese un nombre: \").title()\n",
        "if nombre in alumnos:\n",
        "  posicion = alumnos.index(nombre)\n",
        "  print(f\"El alumno está en la posicion {posicion}\")\n",
        "else:\n",
        "  print(f\"EL alumno no está en la lista\")"
      ],
      "metadata": {
        "id": "WG4Eae3PnAog",
        "outputId": "a4007eef-29b2-44e3-c0ba-2e997bea8fa8",
        "colab": {
          "base_uri": "https://localhost:8080/"
        }
      },
      "execution_count": null,
      "outputs": [
        {
          "output_type": "stream",
          "name": "stdout",
          "text": [
            "Ingrese un nombre: Castillo, Paulina Milagros\n",
            "El alumno está en la posicion 5\n"
          ]
        }
      ]
    },
    {
      "cell_type": "markdown",
      "source": [
        "4. Agrega un nombre al final de la lista, otro al principio y otro en la posición anterior a la de tu nombre en la lista. Tene en cuenta el formato usado para ingresar los datos: \"apellidos, nombres\""
      ],
      "metadata": {
        "id": "kZeEHUYVNwGV"
      }
    },
    {
      "cell_type": "code",
      "source": [
        "# Inserta al final\n",
        "nombres = input(\"Ingrese los nombres del estudiante: \").title()\n",
        "apellidos = input(\"Ingrese los apellidos del estudiante: \").title()\n",
        "nombre_completo = apellidos+\", \"+nombres\n",
        "alumnos.append(nombre_completo)"
      ],
      "metadata": {
        "id": "A9u8sTsKnDEx",
        "outputId": "81aa2b22-6e67-4cca-cae6-906c0d4e6960",
        "colab": {
          "base_uri": "https://localhost:8080/"
        }
      },
      "execution_count": null,
      "outputs": [
        {
          "name": "stdout",
          "output_type": "stream",
          "text": [
            "Ingrese los nombres del estudiante: José fulanito\n",
            "Ingrese los apellidos del estudiante: fulanito \n"
          ]
        }
      ]
    },
    {
      "cell_type": "code",
      "source": [
        "# Inserta al principio\n",
        "nombres = input(\"Ingrese los nombres del estudiante: \").title()\n",
        "apellidos = input(\"Ingrese los apellidos del estudiante: \").title()\n",
        "nombre_completo = apellidos+\", \"+nombres\n",
        "alumnos.insert(0,nombre_completo)"
      ],
      "metadata": {
        "id": "c4Kbl2saBRUl",
        "outputId": "7ae6e8a9-2c0e-4ee6-aed5-99ae80a729c2",
        "colab": {
          "base_uri": "https://localhost:8080/"
        }
      },
      "execution_count": null,
      "outputs": [
        {
          "name": "stdout",
          "output_type": "stream",
          "text": [
            "Ingrese los nombres del estudiante: maria\n",
            "Ingrese los apellidos del estudiante: caseres\n"
          ]
        }
      ]
    },
    {
      "cell_type": "code",
      "source": [
        "# Antes de mi nombre\n",
        "\n",
        "nombres = input(\"Ingrese los nombres del estudiante: \").title()\n",
        "apellidos = input(\"Ingrese los apellidos del estudiante: \").title()\n",
        "nombre_completo = apellidos+\", \"+nombres\n",
        "\n",
        "\n",
        "nombre= \"Retamal Cisneros, Zacarias Josue\"\n",
        "if nombre in alumnos:\n",
        "  posicion = alumnos.index(nombre)\n",
        "  alumnos.insert(posicion,nombre_completo)\n",
        "else:\n",
        "  print(f\"EL alumno no está en la lista\")"
      ],
      "metadata": {
        "id": "H_PPXNalBZBW",
        "outputId": "736cca09-1dc5-4ecd-c0da-8f35426a60e9",
        "colab": {
          "base_uri": "https://localhost:8080/"
        }
      },
      "execution_count": null,
      "outputs": [
        {
          "name": "stdout",
          "output_type": "stream",
          "text": [
            "Ingrese los nombres del estudiante: Sebastián \n",
            "Ingrese los apellidos del estudiante: Mendez\n"
          ]
        }
      ]
    },
    {
      "cell_type": "code",
      "source": [
        "for alumno in alumnos:\n",
        "  print(alumno)"
      ],
      "metadata": {
        "id": "rFf0U6MWBnDO",
        "outputId": "e46199de-458a-48c2-9378-6794260aab45",
        "colab": {
          "base_uri": "https://localhost:8080/"
        }
      },
      "execution_count": null,
      "outputs": [
        {
          "output_type": "stream",
          "name": "stdout",
          "text": [
            "Caseres, Maria\n",
            "Alurralde, Solange Stefania\n",
            "Alvarado, Ludmila Del Milagro\n",
            "Angel, Camila Juliana\n",
            "Arenas, Lucas Gabriel\n",
            "Caseres, Maria Antonia\n",
            "Castillo, Paulina Milagros\n",
            "Correa Segovia, Hugo Mariano\n",
            "D Elia, Alvaro Tadeo\n",
            "Flores, Victoria Agustina\n",
            "Geronimo Soriano, Lizzie Amaya\n",
            "Guzman, Angélica Morena\n",
            "Guzman, Jazmin Esmeralda Belen\n",
            "Jaime, Anita Maria Belen\n",
            "Lacour Polo, Nazarena\n",
            "Lascano Guanca, Marcelo Fabricio\n",
            "Lezcano, Celia Morena\n",
            "Mamani Kynast, Nicolas Mauricio\n",
            "Martinez, Tomas Andres\n",
            "Portella Valdivia, Pedro Francisco\n",
            "Mendez, Sebastián \n",
            "Retamal Cisneros, Zacarias Josue\n",
            "Rosales, Francisco Gabriel\n",
            "Salem Barba, Mahia\n",
            "Soto Camara, Agustin Ignacio\n",
            "Villalba, Irina\n",
            "Voltolini, Emanuel Tobias\n",
            "Zalazar, Santino Stefano\n",
            "Abud Laspiur, Lourdes Mariel\n",
            "Amador, Luana Micaela\n",
            "Anaquin, Leonardo Ezequiel\n",
            "Araoz Sanchez, Lautaro Nahuel\n",
            "Argañaraz, Agostina Abril\n",
            "Barrera, Matias Ezequiel\n",
            "Barrozo Vedia, Joaquin Nicolas\n",
            "Bettinelli, Valentino\n",
            "Bracamonte Martinez, Salvador\n",
            "Colque Rivero, Ariana Zoe Del Valle\n",
            "Diaz, Dulce Maitena\n",
            "Figueroa, Santino Josue\n",
            "Flores Cardozo, Agustina Tiara\n",
            "Gallo, Octavio Ismael\n",
            "Galvan, Lourdes Yamila\n",
            "Giangreco, Vitto Tomasso\n",
            "Grancara, Martina Luna\n",
            "Guanca, Sara Elizabeth\n",
            "Lopez, Victoria Constanza\n",
            "Mamani Garrido, Rosario Agostina\n",
            "Marinaro, Martin Ezequiel\n",
            "Merluzzi Dagum, Ignacio\n",
            "Messina, Martina\n",
            "Rasuk, Karim\n",
            "Rios, Lucia Magali\n",
            "Sanchez Flores, Matías Agustín\n",
            "Scarano, Renato Marcelo\n",
            "Sierra, Lucas Mauricio\n",
            "Tapia, Martin Gabriel\n",
            "Vilte, Mia Antonella Alondra\n",
            "Virgillito, Katya Milena\n",
            "Fulanito , José Fulanito\n"
          ]
        }
      ]
    },
    {
      "cell_type": "markdown",
      "source": [
        "5. Mostrá cada elemento de la lista mientras la vacias usando el metodo pop(). Para lograr esto usá la estructura while.\n",
        "\n",
        "Tene en cuenta que:\n",
        "\n",
        "\n",
        ">```python\n",
        "bool([]) = False\n",
        "```\n",
        "\n"
      ],
      "metadata": {
        "id": "b_we1Oz4OUBN"
      }
    },
    {
      "cell_type": "code",
      "source": [
        "while alumnos:\n",
        "  un_alumno = alumnos.pop()\n",
        "  print(un_alumno)"
      ],
      "metadata": {
        "id": "bjn9DhewPhWF",
        "outputId": "e2aa297b-c504-4400-b06a-c10d617a0d21",
        "colab": {
          "base_uri": "https://localhost:8080/"
        }
      },
      "execution_count": null,
      "outputs": [
        {
          "output_type": "stream",
          "name": "stdout",
          "text": [
            "Fulanito , José Fulanito\n",
            "Virgillito, Katya Milena\n",
            "Vilte, Mia Antonella Alondra\n",
            "Tapia, Martin Gabriel\n",
            "Sierra, Lucas Mauricio\n",
            "Scarano, Renato Marcelo\n",
            "Sanchez Flores, Matías Agustín\n",
            "Rios, Lucia Magali\n",
            "Rasuk, Karim\n",
            "Messina, Martina\n",
            "Merluzzi Dagum, Ignacio\n",
            "Marinaro, Martin Ezequiel\n",
            "Mamani Garrido, Rosario Agostina\n",
            "Lopez, Victoria Constanza\n",
            "Guanca, Sara Elizabeth\n",
            "Grancara, Martina Luna\n",
            "Giangreco, Vitto Tomasso\n",
            "Galvan, Lourdes Yamila\n",
            "Gallo, Octavio Ismael\n",
            "Flores Cardozo, Agustina Tiara\n",
            "Figueroa, Santino Josue\n",
            "Diaz, Dulce Maitena\n",
            "Colque Rivero, Ariana Zoe Del Valle\n",
            "Bracamonte Martinez, Salvador\n",
            "Bettinelli, Valentino\n",
            "Barrozo Vedia, Joaquin Nicolas\n",
            "Barrera, Matias Ezequiel\n",
            "Argañaraz, Agostina Abril\n",
            "Araoz Sanchez, Lautaro Nahuel\n",
            "Anaquin, Leonardo Ezequiel\n",
            "Amador, Luana Micaela\n",
            "Abud Laspiur, Lourdes Mariel\n",
            "Zalazar, Santino Stefano\n",
            "Voltolini, Emanuel Tobias\n",
            "Villalba, Irina\n",
            "Soto Camara, Agustin Ignacio\n",
            "Salem Barba, Mahia\n",
            "Rosales, Francisco Gabriel\n",
            "Retamal Cisneros, Zacarias Josue\n",
            "Mendez, Sebastián \n",
            "Portella Valdivia, Pedro Francisco\n",
            "Martinez, Tomas Andres\n",
            "Mamani Kynast, Nicolas Mauricio\n",
            "Lezcano, Celia Morena\n",
            "Lascano Guanca, Marcelo Fabricio\n",
            "Lacour Polo, Nazarena\n",
            "Jaime, Anita Maria Belen\n",
            "Guzman, Jazmin Esmeralda Belen\n",
            "Guzman, Angélica Morena\n",
            "Geronimo Soriano, Lizzie Amaya\n",
            "Flores, Victoria Agustina\n",
            "D Elia, Alvaro Tadeo\n",
            "Correa Segovia, Hugo Mariano\n",
            "Castillo, Paulina Milagros\n",
            "Caseres, Maria Antonia\n",
            "Arenas, Lucas Gabriel\n",
            "Angel, Camila Juliana\n",
            "Alvarado, Ludmila Del Milagro\n",
            "Alurralde, Solange Stefania\n",
            "Caseres, Maria\n"
          ]
        }
      ]
    },
    {
      "cell_type": "markdown",
      "source": [
        "6. Crea un menú para ordenar la lista de manera ascendente o descendente. Realiza esta acción y muestra el resultado según la opción elegida por el usuario."
      ],
      "metadata": {
        "id": "xY4BuqGdQBF1"
      }
    },
    {
      "cell_type": "code",
      "source": [
        "print(\"\"\"\n",
        "      a - Ordenar de manera asendente\n",
        "      d - Odenar la lista de manera descendente\n",
        "      Ingrese una opcion:\"\"\")\n",
        "op = input().lower() #A --> a\n",
        "if op == 'a':\n",
        "  alumnos.sort()\n",
        "elif op == 'd':\n",
        "  alumnos.sort(reverse= True)\n",
        "else:\n",
        "  print(\"La opcion ingresada no es correcta\")\n",
        "\n",
        "for alumno in alumnos:\n",
        "  print(alumno)"
      ],
      "metadata": {
        "id": "NKR3ciBKSjhr",
        "outputId": "88cb3b75-9512-4c83-bb9d-091a67f56e93",
        "colab": {
          "base_uri": "https://localhost:8080/"
        }
      },
      "execution_count": null,
      "outputs": [
        {
          "output_type": "stream",
          "name": "stdout",
          "text": [
            "\n",
            "      a - Ordenar de manera asendente\n",
            "      d - Odenar la lista de manera descendente\n",
            "      Ingrese una opcion:\n",
            "d\n",
            "Zalazar, Santino Stefano\n",
            "Voltolini, Emanuel Tobias\n",
            "Virgillito, Katya Milena\n",
            "Vilte, Mia Antonella Alondra\n",
            "Villalba, Irina\n",
            "Tapia, Martin Gabriel\n",
            "Soto Camara, Agustin Ignacio\n",
            "Sierra, Lucas Mauricio\n",
            "Scarano, Renato Marcelo\n",
            "Sanchez Flores, Matías Agustín\n",
            "Salem Barba, Mahia\n",
            "Rosales, Francisco Gabriel\n",
            "Rios, Lucia Magali\n",
            "Retamal Cisneros, Zacarias Josue\n",
            "RASUK, KARIM\n",
            "PORTELLA VALDIVIA, PEDRO FRANCISCO\n",
            "Messina, Martina\n",
            "Merluzzi Dagum, Ignacio\n",
            "Martinez, Tomas Andres\n",
            "Marinaro, Martin Ezequiel\n",
            "Mamani Kynast, Nicolas Mauricio\n",
            "Mamani Garrido, Rosario Agostina\n",
            "Lopez, Victoria Constanza\n",
            "Lezcano, Celia Morena\n",
            "Lascano Guanca, Marcelo Fabricio\n",
            "Lacour Polo, Nazarena\n",
            "Jaime, Anita Maria Belen\n",
            "Guzman, Jazmin Esmeralda Belen\n",
            "Guanca, Sara Elizabeth\n",
            "Grancara, Martina Luna\n",
            "Giangreco, Vitto Tomasso\n",
            "Geronimo Soriano, Lizzie Amaya\n",
            "Galvan, Lourdes Yamila\n",
            "Gallo, Octavio Ismael\n",
            "GUZMAN, ANGÉLICA MORENA\n",
            "Flores, Victoria Agustina\n",
            "Flores Cardozo, Agustina Tiara\n",
            "FIGUEROA, SANTINO JOSUE\n",
            "Diaz, Dulce Maitena\n",
            "D Elia, Alvaro Tadeo\n",
            "Correa Segovia, Hugo Mariano\n",
            "Colque Rivero, Ariana Zoe Del Valle\n",
            "Castillo, Paulina Milagros\n",
            "Caseres, Maria Antonia\n",
            "Bracamonte Martinez, Salvador\n",
            "Bettinelli, Valentino\n",
            "Barrozo Vedia, Joaquin Nicolas\n",
            "Barrera, Matias Ezequiel\n",
            "Argañaraz, Agostina Abril\n",
            "Arenas, Lucas Gabriel\n",
            "Araoz Sanchez, Lautaro Nahuel\n",
            "Angel, Camila Juliana\n",
            "Anaquin, Leonardo Ezequiel\n",
            "Amador, Luana Micaela\n",
            "Alvarado, Ludmila Del Milagro\n",
            "Alurralde, Solange Stefania\n",
            "ABUD LASPIUR, LOURDES MARIEL\n"
          ]
        }
      ]
    },
    {
      "cell_type": "markdown",
      "source": [
        "7. - Crea, a partir de la lista estudiantes, una nueva lista tupla_estudiantes que contenga los nombres en formato de tuplas, donde el primer elemento sea el apellido y el segundo el nombre.\n",
        "  - Muestra cada tupla de la nueva lista.\n"
      ],
      "metadata": {
        "id": "7wb4sRbOSkdM"
      }
    },
    {
      "cell_type": "code",
      "source": [
        "tupla_estudiantes = []\n",
        "for alumno in alumnos:\n",
        "  apellido,nombre = alumno.split(',')\n",
        "  nombre = nombre.strip()\n",
        "  tupla_estudiantes.append((apellido,nombre))\n",
        "\n",
        "for alumno in tupla_estudiantes:\n",
        "  print(alumno)"
      ],
      "metadata": {
        "id": "f9v0mfoZS9_s",
        "outputId": "3a479967-78db-474c-e2c8-79bdbbd97843",
        "colab": {
          "base_uri": "https://localhost:8080/"
        }
      },
      "execution_count": null,
      "outputs": [
        {
          "output_type": "stream",
          "name": "stdout",
          "text": [
            "('Zalazar', 'Santino Stefano')\n",
            "('Voltolini', 'Emanuel Tobias')\n",
            "('Virgillito', 'Katya Milena')\n",
            "('Vilte', 'Mia Antonella Alondra')\n",
            "('Villalba', 'Irina')\n",
            "('Tapia', 'Martin Gabriel')\n",
            "('Soto Camara', 'Agustin Ignacio')\n",
            "('Sierra', 'Lucas Mauricio')\n",
            "('Scarano', 'Renato Marcelo')\n",
            "('Sanchez Flores', 'Matías Agustín')\n",
            "('Salem Barba', 'Mahia')\n",
            "('Rosales', 'Francisco Gabriel')\n",
            "('Rios', 'Lucia Magali')\n",
            "('Retamal Cisneros', 'Zacarias Josue')\n",
            "('RASUK', 'KARIM')\n",
            "('PORTELLA VALDIVIA', 'PEDRO FRANCISCO')\n",
            "('Messina', 'Martina')\n",
            "('Merluzzi Dagum', 'Ignacio')\n",
            "('Martinez', 'Tomas Andres')\n",
            "('Marinaro', 'Martin Ezequiel')\n",
            "('Mamani Kynast', 'Nicolas Mauricio')\n",
            "('Mamani Garrido', 'Rosario Agostina')\n",
            "('Lopez', 'Victoria Constanza')\n",
            "('Lezcano', 'Celia Morena')\n",
            "('Lascano Guanca', 'Marcelo Fabricio')\n",
            "('Lacour Polo', 'Nazarena')\n",
            "('Jaime', 'Anita Maria Belen')\n",
            "('Guzman', 'Jazmin Esmeralda Belen')\n",
            "('Guanca', 'Sara Elizabeth')\n",
            "('Grancara', 'Martina Luna')\n",
            "('Giangreco', 'Vitto Tomasso')\n",
            "('Geronimo Soriano', 'Lizzie Amaya')\n",
            "('Galvan', 'Lourdes Yamila')\n",
            "('Gallo', 'Octavio Ismael')\n",
            "('GUZMAN', 'ANGÉLICA MORENA')\n",
            "('Flores', 'Victoria Agustina')\n",
            "('Flores Cardozo', 'Agustina Tiara')\n",
            "('FIGUEROA', 'SANTINO JOSUE')\n",
            "('Diaz', 'Dulce Maitena')\n",
            "('D Elia', 'Alvaro Tadeo')\n",
            "('Correa Segovia', 'Hugo Mariano')\n",
            "('Colque Rivero', 'Ariana Zoe Del Valle')\n",
            "('Castillo', 'Paulina Milagros')\n",
            "('Caseres', 'Maria Antonia')\n",
            "('Bracamonte Martinez', 'Salvador')\n",
            "('Bettinelli', 'Valentino')\n",
            "('Barrozo Vedia', 'Joaquin Nicolas')\n",
            "('Barrera', 'Matias Ezequiel')\n",
            "('Argañaraz', 'Agostina Abril')\n",
            "('Arenas', 'Lucas Gabriel')\n",
            "('Araoz Sanchez', 'Lautaro Nahuel')\n",
            "('Angel', 'Camila Juliana')\n",
            "('Anaquin', 'Leonardo Ezequiel')\n",
            "('Amador', 'Luana Micaela')\n",
            "('Alvarado', 'Ludmila Del Milagro')\n",
            "('Alurralde', 'Solange Stefania')\n",
            "('ABUD LASPIUR', 'LOURDES MARIEL')\n"
          ]
        }
      ]
    },
    {
      "cell_type": "markdown",
      "source": [
        "8. Crea un menú como el del ejercicio 6, pero ahora permite elegir si ordenar alfabéticamente por nombre o por apellido.\n",
        "> Para resolver este ejercicio, solicitar ayuda en clase o en el foro\n"
      ],
      "metadata": {
        "id": "PziNZOOBS_UQ"
      }
    },
    {
      "cell_type": "code",
      "source": [
        "def segunda_posicion(tupla):\n",
        "  return tupla[1]\n",
        "\n",
        "nombre = ('Alurralde', 'Solange Stefania')\n",
        "print(segunda_posicion(nombre))"
      ],
      "metadata": {
        "id": "v72o7Pix76H9",
        "outputId": "4ac1f81d-5021-4f04-ac3a-cdec627709a0",
        "colab": {
          "base_uri": "https://localhost:8080/"
        }
      },
      "execution_count": null,
      "outputs": [
        {
          "output_type": "stream",
          "name": "stdout",
          "text": [
            "Solange Stefania\n"
          ]
        }
      ]
    },
    {
      "cell_type": "code",
      "source": [
        "print(\"\"\"\n",
        "an - Ordenar ascendentemente por nombre\n",
        "aa - Ordenar ascendentemente por apellido\n",
        "dn - Ordenar descendentemente por nombre\n",
        "da - Ordenar descendentemente por apellido\n",
        "Ingrese una opcion: \"\"\")\n",
        "op = input().lower()\n",
        "if op == 'an':\n",
        "  tupla_estudiantes.sort(key=segunda_posicion)\n",
        "elif op == 'aa':\n",
        "  tupla_estudiantes.sort()\n",
        "elif op == 'dn':\n",
        "  tupla_estudiantes.sort(key=segunda_posicion,reverse=True)\n",
        "elif op == 'da':\n",
        "  tupla_estudiantes.sort(reverse= True)\n",
        "else:\n",
        "  print(\"La opcion ingresada es incorrecta\")\n",
        "for estudiante in tupla_estudiantes:\n",
        "  print(estudiante)"
      ],
      "metadata": {
        "id": "X7Xu-KyaTWth",
        "outputId": "e44b5240-c439-461f-9fec-091b9634c060",
        "colab": {
          "base_uri": "https://localhost:8080/"
        }
      },
      "execution_count": null,
      "outputs": [
        {
          "output_type": "stream",
          "name": "stdout",
          "text": [
            "\n",
            "an - Ordenar ascendentemente por nombre\n",
            "aa - Ordenar ascendentemente por apellido\n",
            "dn - Ordenar descendentemente por nombre\n",
            "da - Ordenar descendentemente por apellido\n",
            "Ingrese una opcion: \n",
            "dn\n",
            "('Retamal Cisneros', 'Zacarias Josue')\n",
            "('Giangreco', 'Vitto Tomasso')\n",
            "('Lopez', 'Victoria Constanza')\n",
            "('Flores', 'Victoria Agustina')\n",
            "('Bettinelli', 'Valentino')\n",
            "('Martinez', 'Tomas Andres')\n",
            "('Alurralde', 'Solange Stefania')\n",
            "('Guanca', 'Sara Elizabeth')\n",
            "('Zalazar', 'Santino Stefano')\n",
            "('Bracamonte Martinez', 'Salvador')\n",
            "('FIGUEROA', 'SANTINO JOSUE')\n",
            "('Mamani Garrido', 'Rosario Agostina')\n",
            "('Scarano', 'Renato Marcelo')\n",
            "('Castillo', 'Paulina Milagros')\n",
            "('PORTELLA VALDIVIA', 'PEDRO FRANCISCO')\n",
            "('Gallo', 'Octavio Ismael')\n",
            "('Mamani Kynast', 'Nicolas Mauricio')\n",
            "('Lacour Polo', 'Nazarena')\n",
            "('Vilte', 'Mia Antonella Alondra')\n",
            "('Sanchez Flores', 'Matías Agustín')\n",
            "('Barrera', 'Matias Ezequiel')\n",
            "('Grancara', 'Martina Luna')\n",
            "('Messina', 'Martina')\n",
            "('Tapia', 'Martin Gabriel')\n",
            "('Marinaro', 'Martin Ezequiel')\n",
            "('Caseres', 'Maria Antonia')\n",
            "('Lascano Guanca', 'Marcelo Fabricio')\n",
            "('Salem Barba', 'Mahia')\n",
            "('Alvarado', 'Ludmila Del Milagro')\n",
            "('Rios', 'Lucia Magali')\n",
            "('Sierra', 'Lucas Mauricio')\n",
            "('Arenas', 'Lucas Gabriel')\n",
            "('Amador', 'Luana Micaela')\n",
            "('Galvan', 'Lourdes Yamila')\n",
            "('Geronimo Soriano', 'Lizzie Amaya')\n",
            "('Anaquin', 'Leonardo Ezequiel')\n",
            "('Araoz Sanchez', 'Lautaro Nahuel')\n",
            "('ABUD LASPIUR', 'LOURDES MARIEL')\n",
            "('Virgillito', 'Katya Milena')\n",
            "('RASUK', 'KARIM')\n",
            "('Barrozo Vedia', 'Joaquin Nicolas')\n",
            "('Guzman', 'Jazmin Esmeralda Belen')\n",
            "('Villalba', 'Irina')\n",
            "('Merluzzi Dagum', 'Ignacio')\n",
            "('Correa Segovia', 'Hugo Mariano')\n",
            "('Rosales', 'Francisco Gabriel')\n",
            "('Voltolini', 'Emanuel Tobias')\n",
            "('Diaz', 'Dulce Maitena')\n",
            "('Lezcano', 'Celia Morena')\n",
            "('Angel', 'Camila Juliana')\n",
            "('Colque Rivero', 'Ariana Zoe Del Valle')\n",
            "('Jaime', 'Anita Maria Belen')\n",
            "('D Elia', 'Alvaro Tadeo')\n",
            "('Flores Cardozo', 'Agustina Tiara')\n",
            "('Soto Camara', 'Agustin Ignacio')\n",
            "('Argañaraz', 'Agostina Abril')\n",
            "('GUZMAN', 'ANGÉLICA MORENA')\n"
          ]
        }
      ]
    },
    {
      "cell_type": "markdown",
      "source": [
        "9. Agrega un dato en la posición siguiente a la de tu nombre en el nuevo formato de tupla. Para esto solicita al usuario su nombre y apellido, almacena estos datos en una tupla y agrega la misma a la lista \"tupla_estudiantes\""
      ],
      "metadata": {
        "id": "mtnmvoZ9TXii"
      }
    },
    {
      "cell_type": "code",
      "source": [
        "pass"
      ],
      "metadata": {
        "id": "RSXz_XcvT0Nc"
      },
      "execution_count": null,
      "outputs": []
    },
    {
      "cell_type": "markdown",
      "source": [
        "10. - Pedir al usuario un nombre y mostrar todos los estudiantes que tengan ese nombre.\n",
        "  - Hacer lo mismo con un apellido.\n"
      ],
      "metadata": {
        "id": "dY4y7OVPT1FT"
      }
    },
    {
      "cell_type": "code",
      "source": [
        "nombre = input(\"Ingrese un nombre:\").title()\n",
        "for alumno in alumnos:\n",
        "  if nombre in alumno:\n",
        "    print(alumno)\n",
        "apellido = input(\" Ingrese un apellido:\").title()\n",
        "for alumno in alumnos:\n",
        "  if apellido in alumno:\n",
        "    print(alumno)"
      ],
      "metadata": {
        "id": "bVTVfjH4VMBM",
        "outputId": "52b74370-2a14-4d66-8dce-ddebf934c013",
        "colab": {
          "base_uri": "https://localhost:8080/"
        }
      },
      "execution_count": null,
      "outputs": [
        {
          "output_type": "stream",
          "name": "stdout",
          "text": [
            "Ingrese un nombre:maria\n",
            "Jaime, Anita Maria Belen\n",
            "Correa Segovia, Hugo Mariano\n",
            "Caseres, Maria Antonia\n",
            " Ingrese un apellido:Jaime\n",
            "Jaime, Anita Maria Belen\n"
          ]
        }
      ]
    },
    {
      "cell_type": "markdown",
      "source": [
        "11. Pedir un nombre al usuario y eliminar todos los registros donde se encuentre un estudiante con el nombre ingresado.\n"
      ],
      "metadata": {
        "id": "7zdJLrqXVM30"
      }
    },
    {
      "cell_type": "code",
      "source": [
        "# Lista de estudiantes\n",
        "estudiantes = [\n",
        "    {\"nombre\": \"Juan\", \"edad\": 20},\n",
        "    {\"nombre\": \"María\", \"edad\": 22},\n",
        "    {\"nombre\": \"Pedro\", \"edad\": 21},\n",
        "    {\"nombre\": \"María\", \"edad\": 23},\n",
        "    {\"nombre\": \"Ana\", \"edad\": 20},\n",
        "]\n",
        "\n",
        "# Función para eliminar estudiantes por nombre\n",
        "def eliminar_estudiantes_por_nombre():\n",
        "    nombre = input(\"Ingresa el nombre del estudiante a eliminar: \")\n",
        "\n",
        "    # Filtramos la lista para excluir los estudiantes con el nombre dado\n",
        "    global estudiantes\n",
        "    estudiantes = [estudiante for estudiante in estudiantes if estudiante[\"nombre\"] != nombre]\n",
        "\n",
        "    print(f\"Se han eliminado todos los registros de estudiantes llamados {nombre}.\")\n",
        "    print(\"Estudiantes restantes:\")\n",
        "    for estudiante in estudiantes:\n",
        "        print(estudiante)\n",
        "\n",
        "# Llamada a la función\n",
        "eliminar_estudiantes_por_nombre()"
      ],
      "metadata": {
        "id": "3_rnimG_VQr6",
        "outputId": "06c0b231-6bf7-4268-8a74-3f56475738c9",
        "colab": {
          "base_uri": "https://localhost:8080/"
        }
      },
      "execution_count": 48,
      "outputs": [
        {
          "output_type": "stream",
          "name": "stdout",
          "text": [
            "Ingresa el nombre del estudiante a eliminar: maria\n",
            "Se han eliminado todos los registros de estudiantes llamados maria.\n",
            "Estudiantes restantes:\n",
            "{'nombre': 'Juan', 'edad': 20}\n",
            "{'nombre': 'María', 'edad': 22}\n",
            "{'nombre': 'Pedro', 'edad': 21}\n",
            "{'nombre': 'María', 'edad': 23}\n",
            "{'nombre': 'Ana', 'edad': 20}\n"
          ]
        }
      ]
    },
    {
      "cell_type": "markdown",
      "source": [
        "12. Pedir dos apellidos al usuario, y reemplazar el primer apellido por el segundo en todos los registros donde se encuentre."
      ],
      "metadata": {
        "id": "DGU_hs0BVRfa"
      }
    },
    {
      "cell_type": "code",
      "source": [],
      "metadata": {
        "id": "ghxBxrzTV6aL"
      },
      "execution_count": null,
      "outputs": []
    }
  ]
}