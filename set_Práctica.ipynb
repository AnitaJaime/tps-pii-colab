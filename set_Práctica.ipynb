{
  "nbformat": 4,
  "nbformat_minor": 0,
  "metadata": {
    "colab": {
      "provenance": [],
      "include_colab_link": true
    },
    "kernelspec": {
      "name": "python3",
      "display_name": "Python 3"
    },
    "language_info": {
      "name": "python"
    }
  },
  "cells": [
    {
      "cell_type": "markdown",
      "metadata": {
        "id": "view-in-github",
        "colab_type": "text"
      },
      "source": [
        "<a href=\"https://colab.research.google.com/github/AnitaJaime/tps-pii-colab/blob/main/set_Pr%C3%A1ctica.ipynb\" target=\"_parent\"><img src=\"https://colab.research.google.com/assets/colab-badge.svg\" alt=\"Open In Colab\"/></a>"
      ]
    },
    {
      "cell_type": "markdown",
      "source": [
        "1. Dada la lista de estudiantes, elimina los elementos repetidos de la misma, usando para ello una estructura set. El resultado final debe ser una lista, con la misma estructura de la original, pero sin datos repetidos.\n"
      ],
      "metadata": {
        "id": "wRLng-uURyJ3"
      }
    },
    {
      "cell_type": "code",
      "source": [
        "students = [\n",
        "    {\"name\": \"Abud Laspiur, Lourdes Mariel\", \"section\": \"C\", \"dob\": \"05/12/2006\"},\n",
        "    {\"name\": \"Amador, Luana Micaela\", \"section\": \"C\", \"dob\": \"09/12/2006\"},\n",
        "    {\"name\": \"Anaquin, Leonardo Ezequiel\", \"section\": \"C\", \"dob\": \"06/09/2005\"},\n",
        "    {\"name\": \"Araoz Sanchez, Lautaro Nahuel\", \"section\": \"C\", \"dob\": \"28/12/2005\"},\n",
        "    {\"name\": \"Argañaraz, Agostina Abril\", \"section\": \"C\", \"dob\": \"11/10/2006\"},\n",
        "    {\"name\": \"Barrera, Matias Ezequiel\", \"section\": \"C\", \"dob\": \"27/02/2007\"},\n",
        "    {\"name\": \"Barrera, Matias Ezequiel\", \"section\": \"C\", \"dob\": \"27/02/2007\"},\n",
        "    {\"name\": \"Barrozo Vedia, Joaquin Nicolas\", \"section\": \"C\", \"dob\": \"15/04/2006\"},\n",
        "    {\"name\": \"Bettinelli, Valentino\", \"section\": \"C\", \"dob\": \"12/07/2006\"},\n",
        "    {\"name\": \"Bracamonte Martinez, Salvador\", \"section\": \"C\", \"dob\": \"02/11/2005\"},\n",
        "    {\"name\": \"Colque Rivero, Ariana Zoe Del Valle\", \"section\": \"C\", \"dob\": \"27/12/2006\"},\n",
        "    {\"name\": \"Diaz, Dulce Maitena\", \"section\": \"C\", \"dob\": \"11/12/2006\"},\n",
        "    {\"name\": \"Figueroa, Santino Josue\", \"section\": \"C\", \"dob\": \"12/05/2007\"},\n",
        "    {\"name\": \"Figueroa, Santino Josue\", \"section\": \"C\", \"dob\": \"12/05/2007\"},\n",
        "    {\"name\": \"Flores Cardozo, Agustina Tiara\", \"section\": \"C\", \"dob\": \"18/03/2006\"},\n",
        "    {\"name\": \"Gallo, Octavio Ismael\", \"section\": \"C\", \"dob\": \"04/08/2006\"},\n",
        "    {\"name\": \"Galvan, Lourdes Yamila\", \"section\": \"C\", \"dob\": \"19/08/2005\"},\n",
        "    {\"name\": \"Giangreco, Vitto Tomasso\", \"section\": \"C\", \"dob\": \"21/03/2007\"},\n",
        "    {\"name\": \"Grancara, Martina Luna\", \"section\": \"C\", \"dob\": \"15/12/2006\"},\n",
        "    {\"name\": \"Guanca, Sara Elizabeth\", \"section\": \"C\", \"dob\": \"17/01/2007\"},\n",
        "    {\"name\": \"Lopez, Victoria Constanza\", \"section\": \"C\", \"dob\": \"12/11/2007\"},\n",
        "    {\"name\": \"Mamani Garrido, Rosario Agostina\", \"section\": \"C\", \"dob\": \"24/10/2006\"},\n",
        "    {\"name\": \"Marinaro, Martin Ezequiel\", \"section\": \"C\", \"dob\": \"03/11/2006\"},\n",
        "    {\"name\": \"Merluzzi Dagum, Ignacio\", \"section\": \"C\", \"dob\": \"22/12/2005\"},\n",
        "    {\"name\": \"Messina, Martina\", \"section\": \"C\", \"dob\": \"13/07/2005\"},\n",
        "    {\"name\": \"Rasuk, Karim\", \"section\": \"C\", \"dob\": \"13/07/2007\"},\n",
        "    {\"name\": \"Rasuk, Karim\", \"section\": \"C\", \"dob\": \"13/07/2007\"},\n",
        "    {\"name\": \"Rios, Lucia Magali\", \"section\": \"C\", \"dob\": \"22/09/2006\"},\n",
        "    {\"name\": \"Sanchez Flores, Matías Agustín\", \"section\": \"C\", \"dob\": \"15/02/2007\"},\n",
        "    {\"name\": \"Scarano, Renato Marcelo\", \"section\": \"C\", \"dob\": \"06/12/2006\"},\n",
        "    {\"name\": \"Sierra, Lucas Mauricio\", \"section\": \"C\", \"dob\": \"03/04/2005\"},\n",
        "    {\"name\": \"Tapia, Martin Gabriel\", \"section\": \"C\", \"dob\": \"30/05/2006\"},\n",
        "    {\"name\": \"Vilte, Mia Antonella Alondra\", \"section\": \"C\", \"dob\": \"10/09/2005\"},\n",
        "    {\"name\": \"Virgillito, Katya Milena\", \"section\": \"C\", \"dob\": \"19/06/2007\"},\n",
        "    {\"name\": \"Alurralde, Solange Stefania\", \"section\": \"D\", \"dob\": \"02/04/2007\"},\n",
        "    {\"name\": \"Alvarado, Ludmila Del Milagro\", \"section\": \"D\", \"dob\": \"06/09/2006\"},\n",
        "    {\"name\": \"Angel, Camila Juliana\", \"section\": \"D\", \"dob\": \"07/03/2007\"},\n",
        "    {\"name\": \"Arenas, Lucas Gabriel\", \"section\": \"D\", \"dob\": \"26/06/2007\"},\n",
        "    {\"name\": \"Caseres, Maria Antonia\", \"section\": \"D\", \"dob\": \"01/07/2006\"},\n",
        "    {\"name\": \"Castillo, Paulina Milagros\", \"section\": \"D\", \"dob\": \"01/06/2007\"},\n",
        "    {\"name\": \"Correa Segovia, Hugo Mariano\", \"section\": \"D\", \"dob\": \"04/12/2006\"},\n",
        "    {\"name\": \"Correa Segovia, Hugo Mariano\", \"section\": \"D\", \"dob\": \"04/12/2006\"},\n",
        "    {\"name\": \"D Elia, Alvaro Tadeo\", \"section\": \"D\", \"dob\": \"27/08/2006\"},\n",
        "    {\"name\": \"Flores, Victoria Agustina\", \"section\": \"D\", \"dob\": \"12/12/2006\"},\n",
        "    {\"name\": \"Geronimo Soriano, Lizzie Amaya\", \"section\": \"D\", \"dob\": \"20/01/2007\"},\n",
        "    {\"name\": \"Guzman, Angélica Morena\", \"section\": \"D\", \"dob\": \"11/04/2007\"},\n",
        "    {\"name\": \"Guzman, Jazmin Esmeralda Belen\", \"section\": \"D\", \"dob\": \"31/07/2006\"},\n",
        "    {\"name\": \"Jaime, Anita Maria Belen\", \"section\": \"D\", \"dob\": \"19/04/2007\"},\n",
        "    {\"name\": \"Lacour Polo, Nazarena\", \"section\": \"D\", \"dob\": \"19/12/2005\"},\n",
        "    {\"name\": \"Lascano Guanca, Marcelo Fabricio\", \"section\": \"D\", \"dob\": \"17/02/2006\"},\n",
        "    {\"name\": \"Lezcano, Celia Morena\", \"section\": \"D\", \"dob\": \"01/07/2005\"},\n",
        "    {\"name\": \"Martinez, Tomas Andres\", \"section\": \"D\", \"dob\": \"22/03/2007\"},\n",
        "    {\"name\": \"Portella Valdivia, Pedro Francisco\", \"section\": \"D\", \"dob\": \"24/01/2007\"},\n",
        "    {\"name\": \"Retamal Cisneros, Zacarias Josue\", \"section\": \"D\", \"dob\": \"24/02/2007\"},\n",
        "    {\"name\": \"Rosales, Francisco Gabriel\", \"section\": \"D\", \"dob\": \"14/11/2006\"},\n",
        "    {\"name\": \"Salem Barba, Mahia\", \"section\": \"D\", \"dob\": \"14/10/2005\"},\n",
        "    {\"name\": \"Soto Camara, Agustin Ignacio\", \"section\": \"D\", \"dob\": \"07/11/2005\"},\n",
        "    {\"name\": \"Villalba, Irina\", \"section\": \"D\", \"dob\": \"09/09/2006\"},\n",
        "    {\"name\": \"Voltolini, Emanuel Tobias\", \"section\": \"D\", \"dob\": \"17/09/2006\"},\n",
        "    {\"name\": \"Zalazar, Santino Stefano\", \"section\": \"D\", \"dob\": \"30/09/2006\"},\n",
        "    {\"name\": \"Zalazar, Santino Stefano\", \"section\": \"D\", \"dob\": \"30/09/2006\"}\n",
        "]\n",
        "\n",
        "unique_students = []\n",
        "seen = set()\n",
        "\n",
        "for student in students:\n",
        "    identifier = (student[\"name\"], student[\"section\"], student[\"dob\"])\n",
        "    if identifier not in seen:\n",
        "        seen.add(identifier)\n",
        "        unique_students.append(student)\n",
        "\n",
        "for student in unique_students:\n",
        "    print(student)"
      ],
      "metadata": {
        "colab": {
          "base_uri": "https://localhost:8080/"
        },
        "id": "DNUnHG6PiV69",
        "outputId": "b7feec85-6bb5-4208-db53-17070d1bfb94"
      },
      "execution_count": 15,
      "outputs": [
        {
          "output_type": "stream",
          "name": "stdout",
          "text": [
            "{'name': 'Abud Laspiur, Lourdes Mariel', 'section': 'C', 'dob': '05/12/2006'}\n",
            "{'name': 'Amador, Luana Micaela', 'section': 'C', 'dob': '09/12/2006'}\n",
            "{'name': 'Anaquin, Leonardo Ezequiel', 'section': 'C', 'dob': '06/09/2005'}\n",
            "{'name': 'Araoz Sanchez, Lautaro Nahuel', 'section': 'C', 'dob': '28/12/2005'}\n",
            "{'name': 'Argañaraz, Agostina Abril', 'section': 'C', 'dob': '11/10/2006'}\n",
            "{'name': 'Barrera, Matias Ezequiel', 'section': 'C', 'dob': '27/02/2007'}\n",
            "{'name': 'Barrozo Vedia, Joaquin Nicolas', 'section': 'C', 'dob': '15/04/2006'}\n",
            "{'name': 'Bettinelli, Valentino', 'section': 'C', 'dob': '12/07/2006'}\n",
            "{'name': 'Bracamonte Martinez, Salvador', 'section': 'C', 'dob': '02/11/2005'}\n",
            "{'name': 'Colque Rivero, Ariana Zoe Del Valle', 'section': 'C', 'dob': '27/12/2006'}\n",
            "{'name': 'Diaz, Dulce Maitena', 'section': 'C', 'dob': '11/12/2006'}\n",
            "{'name': 'Figueroa, Santino Josue', 'section': 'C', 'dob': '12/05/2007'}\n",
            "{'name': 'Flores Cardozo, Agustina Tiara', 'section': 'C', 'dob': '18/03/2006'}\n",
            "{'name': 'Gallo, Octavio Ismael', 'section': 'C', 'dob': '04/08/2006'}\n",
            "{'name': 'Galvan, Lourdes Yamila', 'section': 'C', 'dob': '19/08/2005'}\n",
            "{'name': 'Giangreco, Vitto Tomasso', 'section': 'C', 'dob': '21/03/2007'}\n",
            "{'name': 'Grancara, Martina Luna', 'section': 'C', 'dob': '15/12/2006'}\n",
            "{'name': 'Guanca, Sara Elizabeth', 'section': 'C', 'dob': '17/01/2007'}\n",
            "{'name': 'Lopez, Victoria Constanza', 'section': 'C', 'dob': '12/11/2007'}\n",
            "{'name': 'Mamani Garrido, Rosario Agostina', 'section': 'C', 'dob': '24/10/2006'}\n",
            "{'name': 'Marinaro, Martin Ezequiel', 'section': 'C', 'dob': '03/11/2006'}\n",
            "{'name': 'Merluzzi Dagum, Ignacio', 'section': 'C', 'dob': '22/12/2005'}\n",
            "{'name': 'Messina, Martina', 'section': 'C', 'dob': '13/07/2005'}\n",
            "{'name': 'Rasuk, Karim', 'section': 'C', 'dob': '13/07/2007'}\n",
            "{'name': 'Rios, Lucia Magali', 'section': 'C', 'dob': '22/09/2006'}\n",
            "{'name': 'Sanchez Flores, Matías Agustín', 'section': 'C', 'dob': '15/02/2007'}\n",
            "{'name': 'Scarano, Renato Marcelo', 'section': 'C', 'dob': '06/12/2006'}\n",
            "{'name': 'Sierra, Lucas Mauricio', 'section': 'C', 'dob': '03/04/2005'}\n",
            "{'name': 'Tapia, Martin Gabriel', 'section': 'C', 'dob': '30/05/2006'}\n",
            "{'name': 'Vilte, Mia Antonella Alondra', 'section': 'C', 'dob': '10/09/2005'}\n",
            "{'name': 'Virgillito, Katya Milena', 'section': 'C', 'dob': '19/06/2007'}\n",
            "{'name': 'Alurralde, Solange Stefania', 'section': 'D', 'dob': '02/04/2007'}\n",
            "{'name': 'Alvarado, Ludmila Del Milagro', 'section': 'D', 'dob': '06/09/2006'}\n",
            "{'name': 'Angel, Camila Juliana', 'section': 'D', 'dob': '07/03/2007'}\n",
            "{'name': 'Arenas, Lucas Gabriel', 'section': 'D', 'dob': '26/06/2007'}\n",
            "{'name': 'Caseres, Maria Antonia', 'section': 'D', 'dob': '01/07/2006'}\n",
            "{'name': 'Castillo, Paulina Milagros', 'section': 'D', 'dob': '01/06/2007'}\n",
            "{'name': 'Correa Segovia, Hugo Mariano', 'section': 'D', 'dob': '04/12/2006'}\n",
            "{'name': 'D Elia, Alvaro Tadeo', 'section': 'D', 'dob': '27/08/2006'}\n",
            "{'name': 'Flores, Victoria Agustina', 'section': 'D', 'dob': '12/12/2006'}\n",
            "{'name': 'Geronimo Soriano, Lizzie Amaya', 'section': 'D', 'dob': '20/01/2007'}\n",
            "{'name': 'Guzman, Angélica Morena', 'section': 'D', 'dob': '11/04/2007'}\n",
            "{'name': 'Guzman, Jazmin Esmeralda Belen', 'section': 'D', 'dob': '31/07/2006'}\n",
            "{'name': 'Jaime, Anita Maria Belen', 'section': 'D', 'dob': '19/04/2007'}\n",
            "{'name': 'Lacour Polo, Nazarena', 'section': 'D', 'dob': '19/12/2005'}\n",
            "{'name': 'Lascano Guanca, Marcelo Fabricio', 'section': 'D', 'dob': '17/02/2006'}\n",
            "{'name': 'Lezcano, Celia Morena', 'section': 'D', 'dob': '01/07/2005'}\n",
            "{'name': 'Martinez, Tomas Andres', 'section': 'D', 'dob': '22/03/2007'}\n",
            "{'name': 'Portella Valdivia, Pedro Francisco', 'section': 'D', 'dob': '24/01/2007'}\n",
            "{'name': 'Retamal Cisneros, Zacarias Josue', 'section': 'D', 'dob': '24/02/2007'}\n",
            "{'name': 'Rosales, Francisco Gabriel', 'section': 'D', 'dob': '14/11/2006'}\n",
            "{'name': 'Salem Barba, Mahia', 'section': 'D', 'dob': '14/10/2005'}\n",
            "{'name': 'Soto Camara, Agustin Ignacio', 'section': 'D', 'dob': '07/11/2005'}\n",
            "{'name': 'Villalba, Irina', 'section': 'D', 'dob': '09/09/2006'}\n",
            "{'name': 'Voltolini, Emanuel Tobias', 'section': 'D', 'dob': '17/09/2006'}\n",
            "{'name': 'Zalazar, Santino Stefano', 'section': 'D', 'dob': '30/09/2006'}\n"
          ]
        }
      ]
    },
    {
      "cell_type": "markdown",
      "source": [
        "2. Crea un conjunto de nombres y otro de apellidos para 5C y  para 5D.\n",
        "- Muestra los conjuntos generados\n",
        "\n",
        "> recordá que los conjuntos solo pueden almacenar datos inmutables"
      ],
      "metadata": {
        "id": "dYEGkYZyLy9I"
      }
    },
    {
      "cell_type": "code",
      "source": [
        "\n",
        "nombres_5C = set()\n",
        "apellidos_5C = set()\n",
        "nombres_5D = set()\n",
        "apellidos_5D = set()\n",
        "\n",
        "for student in unique_students:\n",
        "    nombre_completo = student[\"name\"]\n",
        "    section = student[\"section\"]\n",
        "\n",
        "    apellidos, nombres = nombre_completo.split(\",\", 1)\n",
        "    apellidos = apellidos.strip()\n",
        "    nombres = nombres.strip()\n",
        "\n",
        "    if section == \"C\":\n",
        "        nombres_5C.add(nombres)\n",
        "        apellidos_5C.add(apellidos)\n",
        "    elif section == \"D\":\n",
        "        nombres_5D.add(nombres)\n",
        "        apellidos_5D.add(apellidos)\n",
        "\n",
        "print(\"Nombres 5C:\", nombres_5C)\n",
        "print(\"Apellidos 5C:\", apellidos_5C)\n",
        "print(\"Nombres 5D:\", nombres_5D)\n",
        "print(\"Apellidos 5D:\", apellidos_5D)"
      ],
      "metadata": {
        "collapsed": true,
        "colab": {
          "base_uri": "https://localhost:8080/"
        },
        "id": "tGHI12TQlhnr",
        "outputId": "4710548c-8825-4798-b391-5ddc3ea783e7"
      },
      "execution_count": 16,
      "outputs": [
        {
          "output_type": "stream",
          "name": "stdout",
          "text": [
            "Nombres 5C: {'Lourdes Yamila', 'Martina', 'Ariana Zoe Del Valle', 'Sara Elizabeth', 'Matías Agustín', 'Victoria Constanza', 'Rosario Agostina', 'Vitto Tomasso', 'Martin Gabriel', 'Dulce Maitena', 'Mia Antonella Alondra', 'Luana Micaela', 'Lautaro Nahuel', 'Karim', 'Valentino', 'Renato Marcelo', 'Lourdes Mariel', 'Salvador', 'Santino Josue', 'Martina Luna', 'Joaquin Nicolas', 'Lucia Magali', 'Martin Ezequiel', 'Katya Milena', 'Matias Ezequiel', 'Leonardo Ezequiel', 'Ignacio', 'Agustina Tiara', 'Octavio Ismael', 'Agostina Abril', 'Lucas Mauricio'}\n",
            "Apellidos 5C: {'Mamani Garrido', 'Marinaro', 'Scarano', 'Barrera', 'Barrozo Vedia', 'Vilte', 'Bracamonte Martinez', 'Flores Cardozo', 'Merluzzi Dagum', 'Rios', 'Amador', 'Tapia', 'Araoz Sanchez', 'Sanchez Flores', 'Guanca', 'Figueroa', 'Lopez', 'Messina', 'Grancara', 'Anaquin', 'Gallo', 'Argañaraz', 'Diaz', 'Rasuk', 'Bettinelli', 'Galvan', 'Sierra', 'Colque Rivero', 'Virgillito', 'Giangreco', 'Abud Laspiur'}\n",
            "Nombres 5D: {'Lucas Gabriel', 'Paulina Milagros', 'Tomas Andres', 'Hugo Mariano', 'Solange Stefania', 'Ludmila Del Milagro', 'Jazmin Esmeralda Belen', 'Emanuel Tobias', 'Santino Stefano', 'Lizzie Amaya', 'Marcelo Fabricio', 'Camila Juliana', 'Mahia', 'Anita Maria Belen', 'Celia Morena', 'Zacarias Josue', 'Alvaro Tadeo', 'Irina', 'Nazarena', 'Pedro Francisco', 'Francisco Gabriel', 'Maria Antonia', 'Victoria Agustina', 'Angélica Morena', 'Agustin Ignacio'}\n",
            "Apellidos 5D: {'Portella Valdivia', 'Rosales', 'Castillo', 'D Elia', 'Zalazar', 'Correa Segovia', 'Jaime', 'Voltolini', 'Guzman', 'Lacour Polo', 'Lascano Guanca', 'Martinez', 'Caseres', 'Salem Barba', 'Geronimo Soriano', 'Angel', 'Retamal Cisneros', 'Lezcano', 'Alvarado', 'Alurralde', 'Flores', 'Soto Camara', 'Villalba', 'Arenas'}\n"
          ]
        }
      ]
    },
    {
      "cell_type": "markdown",
      "source": [
        "3. Muestra cuantos nombres únicos hay en cada curso."
      ],
      "metadata": {
        "id": "UW2dlBsGMAte"
      }
    },
    {
      "cell_type": "code",
      "source": [
        "\n",
        "cantidad_nombres_unicos_5C = len(nombres_5C)\n",
        "cantidad_nombres_unicos_5D = len(nombres_5D)\n",
        "\n",
        "print(\"Cantidad de nombres únicos en 5C:\", cantidad_nombres_unicos_5C)\n",
        "print(\"Cantidad de nombres únicos en 5D:\", cantidad_nombres_unicos_5D)"
      ],
      "metadata": {
        "collapsed": true,
        "colab": {
          "base_uri": "https://localhost:8080/"
        },
        "id": "CbwlNm4ul8gD",
        "outputId": "fad9d2b1-437d-46f0-c089-4153bb1a68db"
      },
      "execution_count": 17,
      "outputs": [
        {
          "output_type": "stream",
          "name": "stdout",
          "text": [
            "Cantidad de nombres únicos en 5C: 31\n",
            "Cantidad de nombres únicos en 5D: 25\n"
          ]
        }
      ]
    },
    {
      "cell_type": "markdown",
      "source": [
        "4. Muestra cuantos apellidos únicos hay en cada curso."
      ],
      "metadata": {
        "id": "kZeEHUYVNwGV"
      }
    },
    {
      "cell_type": "code",
      "source": [
        "\n",
        "cantidad_apellidos_unicos_5C = len(apellidos_5C)\n",
        "cantidad_apellidos_unicos_5D = len(apellidos_5D)\n",
        "\n",
        "print(\"Cantidad de apellidos únicos en 5C:\", cantidad_apellidos_unicos_5C)\n",
        "print(\"Cantidad de apellidos únicos en 5D:\", cantidad_apellidos_unicos_5D)"
      ],
      "metadata": {
        "collapsed": true,
        "colab": {
          "base_uri": "https://localhost:8080/"
        },
        "id": "-_p-mfPumHwz",
        "outputId": "2ff3611c-3b8d-4419-90e7-ffe2e2a12d8e"
      },
      "execution_count": 18,
      "outputs": [
        {
          "output_type": "stream",
          "name": "stdout",
          "text": [
            "Cantidad de apellidos únicos en 5C: 31\n",
            "Cantidad de apellidos únicos en 5D: 24\n"
          ]
        }
      ]
    },
    {
      "cell_type": "markdown",
      "source": [
        "5. Mostrá los nombres que se aparecen em ambos cursos"
      ],
      "metadata": {
        "id": "ywYmA2JQNp3T"
      }
    },
    {
      "cell_type": "code",
      "source": [
        "\n",
        "\n",
        "nombres_comunes = nombres_5C.intersection(nombres_5D)\n",
        "print(\"Nombres que aparecen en ambos cursos:\", nombres_comunes)"
      ],
      "metadata": {
        "colab": {
          "base_uri": "https://localhost:8080/"
        },
        "id": "itO60lKOq2GX",
        "outputId": "1ab474d8-85b3-4f96-d4bb-23cb86f02943"
      },
      "execution_count": 19,
      "outputs": [
        {
          "output_type": "stream",
          "name": "stdout",
          "text": [
            "Nombres que aparecen en ambos cursos: set()\n"
          ]
        }
      ]
    },
    {
      "cell_type": "markdown",
      "source": [
        "6. Mostrá los apellidos que se aparecen en ambos cursos"
      ],
      "metadata": {
        "id": "iAXts6saODoU"
      }
    },
    {
      "cell_type": "code",
      "source": [
        "\n",
        "apellidos_repetidos = apellidos_5C.intersection(apellidos_5D)\n",
        "\n",
        "print(\"Apellidos que se repiten en ambos cursos:\", apellidos_repetidos)"
      ],
      "metadata": {
        "colab": {
          "base_uri": "https://localhost:8080/"
        },
        "id": "Vr6nQ9gNoukm",
        "outputId": "bc250af5-4d7c-4c3f-c6d8-323bdb198874"
      },
      "execution_count": 20,
      "outputs": [
        {
          "output_type": "stream",
          "name": "stdout",
          "text": [
            "Apellidos que se repiten en ambos cursos: set()\n"
          ]
        }
      ]
    },
    {
      "cell_type": "markdown",
      "source": [
        "7. Mostrá los nombres de los estudiantes de 5C que no existen en 5D y viceversa."
      ],
      "metadata": {
        "id": "T4PFiwwdOK27"
      }
    },
    {
      "cell_type": "code",
      "source": [
        "\n",
        "nombres_solo_5C = nombres_5C.difference(nombres_5D)\n",
        "print(\"Nombres de estudiantes de 5C que no existen en 5D:\", nombres_solo_5C)\n",
        "\n",
        "nombres_solo_5D = nombres_5D.difference(nombres_5C)\n",
        "print(\"Nombres de estudiantes de 5D que no existen en 5C:\", nombres_solo_5D)"
      ],
      "metadata": {
        "colab": {
          "base_uri": "https://localhost:8080/"
        },
        "collapsed": true,
        "id": "_nOx9J-U0Lst",
        "outputId": "09d84d8c-4a7f-4488-b805-444289e6b10f"
      },
      "execution_count": 21,
      "outputs": [
        {
          "output_type": "stream",
          "name": "stdout",
          "text": [
            "Nombres de estudiantes de 5C que no existen en 5D: {'Lourdes Yamila', 'Martina', 'Ariana Zoe Del Valle', 'Matías Agustín', 'Sara Elizabeth', 'Victoria Constanza', 'Rosario Agostina', 'Vitto Tomasso', 'Martin Gabriel', 'Dulce Maitena', 'Mia Antonella Alondra', 'Luana Micaela', 'Lautaro Nahuel', 'Karim', 'Valentino', 'Renato Marcelo', 'Lourdes Mariel', 'Salvador', 'Santino Josue', 'Martina Luna', 'Joaquin Nicolas', 'Lucia Magali', 'Martin Ezequiel', 'Katya Milena', 'Matias Ezequiel', 'Leonardo Ezequiel', 'Ignacio', 'Agustina Tiara', 'Octavio Ismael', 'Agostina Abril', 'Lucas Mauricio'}\n",
            "Nombres de estudiantes de 5D que no existen en 5C: {'Lucas Gabriel', 'Paulina Milagros', 'Tomas Andres', 'Hugo Mariano', 'Solange Stefania', 'Ludmila Del Milagro', 'Jazmin Esmeralda Belen', 'Emanuel Tobias', 'Santino Stefano', 'Lizzie Amaya', 'Marcelo Fabricio', 'Camila Juliana', 'Mahia', 'Anita Maria Belen', 'Celia Morena', 'Zacarias Josue', 'Alvaro Tadeo', 'Irina', 'Nazarena', 'Pedro Francisco', 'Francisco Gabriel', 'Maria Antonia', 'Victoria Agustina', 'Angélica Morena', 'Agustin Ignacio'}\n"
          ]
        }
      ]
    },
    {
      "cell_type": "markdown",
      "source": [
        "8. Mostrá los apellidos de los estudiantes de 5C que no existen en 5D y viceversa.\n"
      ],
      "metadata": {
        "id": "xfy8SFlZRVGf"
      }
    },
    {
      "cell_type": "code",
      "source": [
        "\n",
        "apellidos_solo_5C = apellidos_5C.difference(apellidos_5D)\n",
        "print(\"Apellidos de estudiantes de 5C que no existen en 5D:\", apellidos_solo_5C)\n",
        "\n",
        "apellidos_solo_5D = apellidos_5D.difference(apellidos_5C)\n",
        "print(\"Apellidos de estudiantes de 5D que no existen en 5C:\", apellidos_solo_5D)"
      ],
      "metadata": {
        "colab": {
          "base_uri": "https://localhost:8080/"
        },
        "collapsed": true,
        "id": "CGX-I4WA0aDa",
        "outputId": "f8c91b9a-48bd-436c-ee2b-e0330df779b3"
      },
      "execution_count": 22,
      "outputs": [
        {
          "output_type": "stream",
          "name": "stdout",
          "text": [
            "Apellidos de estudiantes de 5C que no existen en 5D: {'Mamani Garrido', 'Marinaro', 'Scarano', 'Barrera', 'Barrozo Vedia', 'Vilte', 'Bracamonte Martinez', 'Flores Cardozo', 'Merluzzi Dagum', 'Rios', 'Amador', 'Tapia', 'Araoz Sanchez', 'Sanchez Flores', 'Guanca', 'Figueroa', 'Lopez', 'Messina', 'Grancara', 'Anaquin', 'Gallo', 'Argañaraz', 'Diaz', 'Rasuk', 'Bettinelli', 'Galvan', 'Sierra', 'Colque Rivero', 'Virgillito', 'Giangreco', 'Abud Laspiur'}\n",
            "Apellidos de estudiantes de 5D que no existen en 5C: {'Portella Valdivia', 'Rosales', 'Castillo', 'D Elia', 'Zalazar', 'Correa Segovia', 'Jaime', 'Voltolini', 'Guzman', 'Lacour Polo', 'Lascano Guanca', 'Martinez', 'Caseres', 'Salem Barba', 'Geronimo Soriano', 'Angel', 'Retamal Cisneros', 'Lezcano', 'Alvarado', 'Alurralde', 'Flores', 'Soto Camara', 'Villalba', 'Arenas'}\n"
          ]
        }
      ]
    },
    {
      "cell_type": "markdown",
      "source": [
        "9. Mostrá todos los nombres, menos aquellos que existen en ambos cursos.\n"
      ],
      "metadata": {
        "id": "lW18NgPjRcGP"
      }
    },
    {
      "cell_type": "code",
      "source": [
        "\n",
        "todos_los_nombres = nombres_5C.union(nombres_5D)\n",
        "\n",
        "nombres_sin_comunes = todos_los_nombres.difference(nombres_comunes)\n",
        "\n",
        "print(\"Todos los nombres, menos aquellos que existen en ambos cursos:\", nombres_sin_comunes)"
      ],
      "metadata": {
        "colab": {
          "base_uri": "https://localhost:8080/"
        },
        "collapsed": true,
        "id": "eqrbsc7n0kKU",
        "outputId": "75d2f4a7-3299-4504-de00-e1b154f590d8"
      },
      "execution_count": 23,
      "outputs": [
        {
          "output_type": "stream",
          "name": "stdout",
          "text": [
            "Todos los nombres, menos aquellos que existen en ambos cursos: {'Lourdes Yamila', 'Martina', 'Ariana Zoe Del Valle', 'Lucas Gabriel', 'Sara Elizabeth', 'Matías Agustín', 'Paulina Milagros', 'Victoria Constanza', 'Tomas Andres', 'Hugo Mariano', 'Rosario Agostina', 'Solange Stefania', 'Vitto Tomasso', 'Martin Gabriel', 'Ludmila Del Milagro', 'Jazmin Esmeralda Belen', 'Emanuel Tobias', 'Dulce Maitena', 'Santino Stefano', 'Lizzie Amaya', 'Mia Antonella Alondra', 'Marcelo Fabricio', 'Luana Micaela', 'Lautaro Nahuel', 'Camila Juliana', 'Karim', 'Valentino', 'Mahia', 'Anita Maria Belen', 'Renato Marcelo', 'Lourdes Mariel', 'Salvador', 'Celia Morena', 'Santino Josue', 'Zacarias Josue', 'Alvaro Tadeo', 'Martina Luna', 'Irina', 'Joaquin Nicolas', 'Nazarena', 'Lucia Magali', 'Martin Ezequiel', 'Katya Milena', 'Pedro Francisco', 'Francisco Gabriel', 'Maria Antonia', 'Matias Ezequiel', 'Leonardo Ezequiel', 'Ignacio', 'Agustina Tiara', 'Octavio Ismael', 'Victoria Agustina', 'Agostina Abril', 'Angélica Morena', 'Lucas Mauricio', 'Agustin Ignacio'}\n"
          ]
        }
      ]
    },
    {
      "cell_type": "markdown",
      "source": [
        "10. elimina tu nombre del conjunto al que pertenece"
      ],
      "metadata": {
        "id": "E24lH7x5Xbur"
      }
    },
    {
      "cell_type": "code",
      "source": [
        "\n",
        "\n",
        "nombres_5D.remove(\"Anita Maria Belen\")\n",
        "print(\"Nombres 5D (sin Anita Maria Belen):\", nombres_5D)"
      ],
      "metadata": {
        "colab": {
          "base_uri": "https://localhost:8080/"
        },
        "collapsed": true,
        "id": "Wl7gsv0H0yHD",
        "outputId": "730a738e-7318-429e-bc28-91d72a9dd143"
      },
      "execution_count": 24,
      "outputs": [
        {
          "output_type": "stream",
          "name": "stdout",
          "text": [
            "Nombres 5D (sin Anita Maria Belen): {'Lucas Gabriel', 'Paulina Milagros', 'Tomas Andres', 'Hugo Mariano', 'Solange Stefania', 'Ludmila Del Milagro', 'Jazmin Esmeralda Belen', 'Emanuel Tobias', 'Santino Stefano', 'Lizzie Amaya', 'Marcelo Fabricio', 'Camila Juliana', 'Mahia', 'Celia Morena', 'Zacarias Josue', 'Alvaro Tadeo', 'Irina', 'Nazarena', 'Pedro Francisco', 'Francisco Gabriel', 'Maria Antonia', 'Victoria Agustina', 'Angélica Morena', 'Agustin Ignacio'}\n"
          ]
        }
      ]
    },
    {
      "cell_type": "markdown",
      "source": [
        "11. Solicita al usuario un nombre y un apellido y agregalos a los correspondientes conjuntos de tu curso.\n",
        "\n",
        "\n",
        "\n"
      ],
      "metadata": {
        "id": "vOY6K_ydRc3Q"
      }
    },
    {
      "cell_type": "code",
      "source": [
        "\n",
        "nombre = input(\"Ingresa un nombre: \")\n",
        "apellido = input(\"Ingresa un apellido: \")\n",
        "\n",
        "nombres_5D.add(nombre)\n",
        "apellidos_5D.add(apellido)\n",
        "\n",
        "print(\"Nombres 5D:\", nombres_5D)\n",
        "print(\"Apellidos 5D:\", apellidos_5D)"
      ],
      "metadata": {
        "colab": {
          "base_uri": "https://localhost:8080/"
        },
        "collapsed": true,
        "id": "-EX6G2iO1BwZ",
        "outputId": "34ec82ed-cb36-4815-bc1d-c02b17e92c78"
      },
      "execution_count": 26,
      "outputs": [
        {
          "output_type": "stream",
          "name": "stdout",
          "text": [
            "Ingresa un nombre:  Nazarena\n",
            "Ingresa un apellido: Lacour Polo\n",
            "Nombres 5D: {'Lucas Gabriel', 'Paulina Milagros', 'Tomas Andres', 'Hugo Mariano', 'Solange Stefania', 'Ludmila Del Milagro', 'Jazmin Esmeralda Belen', 'Emanuel Tobias', 'Santino Stefano', 'Lizzie Amaya', 'Marcelo Fabricio', 'Camila Juliana', 'Mahia', 'Celia Morena', 'Zacarias Josue', 'Alvaro Tadeo', 'Irina', 'Nazarena', 'Pedro Francisco', 'Francisco Gabriel', 'Maria Antonia', 'Victoria Agustina', 'Angélica Morena', ' Nazarena', 'Agustin Ignacio'}\n",
            "Apellidos 5D: {'Portella Valdivia', 'Rosales', 'Castillo', 'D Elia', 'Zalazar', 'Correa Segovia', 'Jaime', 'Voltolini', 'Guzman', 'Lacour Polo', 'Lascano Guanca', 'Martinez', 'Caseres', 'Salem Barba', 'Geronimo Soriano', 'Angel', 'Retamal Cisneros', 'Lezcano', 'Alvarado', 'Alurralde', 'Flores', 'Soto Camara', 'Villalba', 'Arenas'}\n"
          ]
        }
      ]
    },
    {
      "cell_type": "markdown",
      "source": [
        "12. Solicita un nombre y verifica si este existe en el diccionario"
      ],
      "metadata": {
        "id": "hs1vGDrX2wHq"
      }
    },
    {
      "cell_type": "code",
      "source": [
        "\n",
        "\n",
        "nombre_a_buscar = input(\"Ingrese un nombre a buscar: \")\n",
        "\n",
        "encontrado = False\n",
        "for student in unique_students:\n",
        "  if nombre_a_buscar in student[\"name\"]:\n",
        "    encontrado = True\n",
        "    break\n",
        "\n",
        "if encontrado:\n",
        "  print(\"El nombre se encuentra en el diccionario.\")\n",
        "else:\n",
        "  print(\"El nombre no se encuentra en el diccionario.\")"
      ],
      "metadata": {
        "colab": {
          "base_uri": "https://localhost:8080/"
        },
        "id": "-AzQHzUP1e3u",
        "outputId": "0250e3b8-4853-4a8d-9f5b-e3d498e6d60b"
      },
      "execution_count": 27,
      "outputs": [
        {
          "output_type": "stream",
          "name": "stdout",
          "text": [
            "Ingrese un nombre a buscar: Lacour Polo, Nazarena\n",
            "El nombre se encuentra en el diccionario.\n"
          ]
        }
      ]
    }
  ]
}